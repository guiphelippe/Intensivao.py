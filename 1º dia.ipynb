{
 "cells": [
  {
   "cell_type": "code",
   "execution_count": 4,
   "metadata": {},
   "outputs": [],
   "source": [
    "\n",
    "import pyautogui\n",
    "import pyperclip\n",
    "\n",
    "\n",
    "#Passo 1: entrar no local onde está o arquivo\n",
    "#Passo 2: ir até o local do arquivo\n",
    "#Passo 3: Realizar o dowload do arquivo\n",
    "#Passo 4: Calcular os indicadores\n",
    "#Passo 5: enviar o e-mail para a diretoria\n",
    "\n",
    "pyautogui.PAUSE = 1\n",
    "link = \"https://drive.google.com/drive/folders/149xknr9JvrlEnhNWO49zPcw0PW5icxga\"\n",
    "pyautogui.press(\"win\")\n",
    "pyautogui.write(\"Chrome\")\n",
    "pyautogui.press(\"enter\")\n",
    "pyperclip.copy(\"https://drive.google.com/drive/folders/149xknr9JvrlEnhNWO49zPcw0PW5icxga\")\n",
    "pyautogui.hotkey(\"ctrl\",\"v\")\n",
    "pyautogui.press(\"enter\")"
   ]
  }
 ],
 "metadata": {
  "kernelspec": {
   "display_name": "Python 3",
   "language": "python",
   "name": "python3"
  },
  "language_info": {
   "codemirror_mode": {
    "name": "ipython",
    "version": 3
   },
   "file_extension": ".py",
   "mimetype": "text/x-python",
   "name": "python",
   "nbconvert_exporter": "python",
   "pygments_lexer": "ipython3",
   "version": "3.10.8 (tags/v3.10.8:aaaf517, Oct 11 2022, 16:50:30) [MSC v.1933 64 bit (AMD64)]"
  },
  "orig_nbformat": 4,
  "vscode": {
   "interpreter": {
    "hash": "d6f154a560802d64277e424ab716cbb72e450074a8138f9ecd5efb59b2418ec4"
   }
  }
 },
 "nbformat": 4,
 "nbformat_minor": 2
}
